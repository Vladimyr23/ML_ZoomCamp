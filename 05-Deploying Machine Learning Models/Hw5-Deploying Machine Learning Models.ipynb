{
 "cells": [
  {
   "cell_type": "markdown",
   "id": "61f2a6af",
   "metadata": {},
   "source": [
    "# Homework"
   ]
  },
  {
   "cell_type": "markdown",
   "id": "9d7cfbd5",
   "metadata": {},
   "source": [
    "In this homework, we will use Credit Card Data from the previous homework."
   ]
  },
  {
   "cell_type": "markdown",
   "id": "325e3dec",
   "metadata": {},
   "source": [
    "# Question 1"
   ]
  },
  {
   "cell_type": "markdown",
   "id": "2f6db60d",
   "metadata": {},
   "source": [
    "- Install Pipenv\n",
    "- What's the version of pipenv you installed?\n",
    "- Use --version to find out"
   ]
  },
  {
   "cell_type": "code",
   "execution_count": 2,
   "id": "5cbab686",
   "metadata": {},
   "outputs": [
    {
     "name": "stdout",
     "output_type": "stream",
     "text": [
      "pipenv, version 2022.9.24\n",
      "\n"
     ]
    }
   ],
   "source": [
    "!pipenv --version"
   ]
  },
  {
   "cell_type": "code",
   "execution_count": 1,
   "id": "6e2666e9",
   "metadata": {},
   "outputs": [],
   "source": [
    "import pickle"
   ]
  },
  {
   "cell_type": "code",
   "execution_count": 3,
   "id": "d944d87f",
   "metadata": {},
   "outputs": [],
   "source": [
    "model_file = 'model1.bin'\n",
    "dv_file = 'dv.bin'"
   ]
  },
  {
   "cell_type": "code",
   "execution_count": 4,
   "id": "ef9be62d",
   "metadata": {},
   "outputs": [],
   "source": [
    "def load(filename):\n",
    "    with open(filename, 'rb') as f_in:\n",
    "        return pickle.load(f_in)"
   ]
  },
  {
   "cell_type": "code",
   "execution_count": 6,
   "id": "12e229e7",
   "metadata": {},
   "outputs": [],
   "source": [
    "dv = load(dv_file)\n",
    "model = load(model_file)"
   ]
  },
  {
   "cell_type": "code",
   "execution_count": 7,
   "id": "33b165c9",
   "metadata": {},
   "outputs": [],
   "source": [
    "client = {\"reports\": 0, \"share\": 0.001694, \"expenditure\": 0.12, \"owner\": \"yes\"}"
   ]
  },
  {
   "cell_type": "code",
   "execution_count": 9,
   "id": "fb7719f5",
   "metadata": {},
   "outputs": [
    {
     "data": {
      "text/plain": [
       "array([[0.12    , 0.      , 1.      , 0.      , 0.001694]])"
      ]
     },
     "execution_count": 9,
     "metadata": {},
     "output_type": "execute_result"
    }
   ],
   "source": [
    "X = dv.transform([client])\n",
    "X"
   ]
  },
  {
   "cell_type": "code",
   "execution_count": 11,
   "id": "69cbeb39",
   "metadata": {},
   "outputs": [
    {
     "data": {
      "text/plain": [
       "0.16213414434326598"
      ]
     },
     "execution_count": 11,
     "metadata": {},
     "output_type": "execute_result"
    }
   ],
   "source": [
    "model.predict_proba(X)[0,1]"
   ]
  },
  {
   "cell_type": "markdown",
   "id": "f523865d",
   "metadata": {},
   "source": [
    "# Question 4"
   ]
  },
  {
   "cell_type": "code",
   "execution_count": 12,
   "id": "4e2a0e8e",
   "metadata": {},
   "outputs": [],
   "source": [
    "import requests"
   ]
  },
  {
   "cell_type": "code",
   "execution_count": 13,
   "id": "9eb478d1",
   "metadata": {},
   "outputs": [],
   "source": [
    "url = 'http://localhost:9696/predict'"
   ]
  },
  {
   "cell_type": "code",
   "execution_count": 14,
   "id": "bd06fdba",
   "metadata": {},
   "outputs": [
    {
     "data": {
      "text/plain": [
       "{'card': True, 'card_probability': 0.9282218018527452}"
      ]
     },
     "execution_count": 14,
     "metadata": {},
     "output_type": "execute_result"
    }
   ],
   "source": [
    "client = {\"reports\": 0, \"share\": 0.245, \"expenditure\": 3.438, \"owner\": \"yes\"}\n",
    "requests.post(url, json=client).json()"
   ]
  },
  {
   "cell_type": "markdown",
   "id": "0287ead2",
   "metadata": {},
   "source": [
    "# Question 6"
   ]
  },
  {
   "cell_type": "code",
   "execution_count": 15,
   "id": "ef29e9c7",
   "metadata": {},
   "outputs": [
    {
     "data": {
      "text/plain": [
       "{'card': True, 'card_probability': 0.7692649226628628}"
      ]
     },
     "execution_count": 15,
     "metadata": {},
     "output_type": "execute_result"
    }
   ],
   "source": [
    "requests.post(url, json=client).json()"
   ]
  },
  {
   "cell_type": "code",
   "execution_count": null,
   "id": "f636d5da",
   "metadata": {},
   "outputs": [],
   "source": []
  }
 ],
 "metadata": {
  "kernelspec": {
   "display_name": "Python 3 (ipykernel)",
   "language": "python",
   "name": "python3"
  },
  "language_info": {
   "codemirror_mode": {
    "name": "ipython",
    "version": 3
   },
   "file_extension": ".py",
   "mimetype": "text/x-python",
   "name": "python",
   "nbconvert_exporter": "python",
   "pygments_lexer": "ipython3",
   "version": "3.9.7"
  }
 },
 "nbformat": 4,
 "nbformat_minor": 5
}
