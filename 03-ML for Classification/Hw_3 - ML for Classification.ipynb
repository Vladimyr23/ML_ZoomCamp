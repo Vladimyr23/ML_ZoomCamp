{
 "cells": [
  {
   "cell_type": "code",
   "execution_count": 1,
   "id": "7ecab571",
   "metadata": {},
   "outputs": [
    {
     "name": "stderr",
     "output_type": "stream",
     "text": [
      "--2022-09-21 13:15:08--  https://raw.githubusercontent.com/alexeygrigorev/datasets/master/housing.csv\n",
      "Resolving raw.githubusercontent.com (raw.githubusercontent.com)... 185.199.108.133, 185.199.111.133, 185.199.109.133, ...\n",
      "Connecting to raw.githubusercontent.com (raw.githubusercontent.com)|185.199.108.133|:443... connected.\n",
      "HTTP request sent, awaiting response... 200 OK\n",
      "Length: 1423529 (1.4M) [text/plain]\n",
      "Saving to: 'housing.csv'\n",
      "\n",
      "     0K .......... .......... .......... .......... ..........  3% 2.71M 0s\n",
      "    50K .......... .......... .......... .......... ..........  7% 33.9M 0s\n",
      "   100K .......... .......... .......... .......... .......... 10% 2.84M 0s\n",
      "   150K .......... .......... .......... .......... .......... 14% 10.6M 0s\n",
      "   200K .......... .......... .......... .......... .......... 17% 14.2M 0s\n",
      "   250K .......... .......... .......... .......... .......... 21% 2.47M 0s\n",
      "   300K .......... .......... .......... .......... .......... 25% 13.9M 0s\n",
      "   350K .......... .......... .......... .......... .......... 28% 5.03M 0s\n",
      "   400K .......... .......... .......... .......... .......... 32% 3.64M 0s\n",
      "   450K .......... .......... .......... .......... .......... 35% 8.87M 0s\n",
      "   500K .......... .......... .......... .......... .......... 39% 5.78M 0s\n",
      "   550K .......... .......... .......... .......... .......... 43% 8.82M 0s\n",
      "   600K .......... .......... .......... .......... .......... 46% 8.25M 0s\n",
      "   650K .......... .......... .......... .......... .......... 50% 4.66M 0s\n",
      "   700K .......... .......... .......... .......... .......... 53% 4.91M 0s\n",
      "   750K .......... .......... .......... .......... .......... 57% 2.52M 0s\n",
      "   800K .......... .......... .......... .......... .......... 61% 26.2M 0s\n",
      "   850K .......... .......... .......... .......... .......... 64% 4.17M 0s\n",
      "   900K .......... .......... .......... .......... .......... 68% 28.0M 0s\n",
      "   950K .......... .......... .......... .......... .......... 71% 5.41M 0s\n",
      "  1000K .......... .......... .......... .......... .......... 75% 5.26M 0s\n",
      "  1050K .......... .......... .......... .......... .......... 79% 39.0M 0s\n",
      "  1100K .......... .......... .......... .......... .......... 82% 14.5M 0s\n",
      "  1150K .......... .......... .......... .......... .......... 86% 4.63M 0s\n",
      "  1200K .......... .......... .......... .......... .......... 89% 45.9M 0s\n",
      "  1250K .......... .......... .......... .......... .......... 93% 10.4M 0s\n",
      "  1300K .......... .......... .......... .......... .......... 97% 9.41M 0s\n",
      "  1350K .......... .......... .......... ..........           100% 7.86M=0.2s\n",
      "\n",
      "2022-09-21 13:15:09 (6.14 MB/s) - 'housing.csv' saved [1423529/1423529]\n",
      "\n"
     ]
    }
   ],
   "source": [
    "#!wget https://raw.githubusercontent.com/alexeygrigorev/datasets/master/housing.csv"
   ]
  },
  {
   "cell_type": "code",
   "execution_count": 1,
   "id": "edb69a7e",
   "metadata": {},
   "outputs": [],
   "source": [
    "import pandas as pd\n",
    "import numpy as np"
   ]
  },
  {
   "cell_type": "code",
   "execution_count": 2,
   "id": "81eb14bb",
   "metadata": {},
   "outputs": [],
   "source": [
    "df = pd.read_csv('housing.csv')"
   ]
  },
  {
   "cell_type": "code",
   "execution_count": 3,
   "id": "1e07d020",
   "metadata": {},
   "outputs": [
    {
     "data": {
      "text/html": [
       "<div>\n",
       "<style scoped>\n",
       "    .dataframe tbody tr th:only-of-type {\n",
       "        vertical-align: middle;\n",
       "    }\n",
       "\n",
       "    .dataframe tbody tr th {\n",
       "        vertical-align: top;\n",
       "    }\n",
       "\n",
       "    .dataframe thead th {\n",
       "        text-align: right;\n",
       "    }\n",
       "</style>\n",
       "<table border=\"1\" class=\"dataframe\">\n",
       "  <thead>\n",
       "    <tr style=\"text-align: right;\">\n",
       "      <th></th>\n",
       "      <th>longitude</th>\n",
       "      <th>latitude</th>\n",
       "      <th>housing_median_age</th>\n",
       "      <th>total_rooms</th>\n",
       "      <th>total_bedrooms</th>\n",
       "      <th>population</th>\n",
       "      <th>households</th>\n",
       "      <th>median_income</th>\n",
       "      <th>median_house_value</th>\n",
       "      <th>ocean_proximity</th>\n",
       "    </tr>\n",
       "  </thead>\n",
       "  <tbody>\n",
       "    <tr>\n",
       "      <th>0</th>\n",
       "      <td>-122.23</td>\n",
       "      <td>37.88</td>\n",
       "      <td>41.0</td>\n",
       "      <td>880.0</td>\n",
       "      <td>129.0</td>\n",
       "      <td>322.0</td>\n",
       "      <td>126.0</td>\n",
       "      <td>8.3252</td>\n",
       "      <td>452600.0</td>\n",
       "      <td>NEAR BAY</td>\n",
       "    </tr>\n",
       "    <tr>\n",
       "      <th>1</th>\n",
       "      <td>-122.22</td>\n",
       "      <td>37.86</td>\n",
       "      <td>21.0</td>\n",
       "      <td>7099.0</td>\n",
       "      <td>1106.0</td>\n",
       "      <td>2401.0</td>\n",
       "      <td>1138.0</td>\n",
       "      <td>8.3014</td>\n",
       "      <td>358500.0</td>\n",
       "      <td>NEAR BAY</td>\n",
       "    </tr>\n",
       "    <tr>\n",
       "      <th>2</th>\n",
       "      <td>-122.24</td>\n",
       "      <td>37.85</td>\n",
       "      <td>52.0</td>\n",
       "      <td>1467.0</td>\n",
       "      <td>190.0</td>\n",
       "      <td>496.0</td>\n",
       "      <td>177.0</td>\n",
       "      <td>7.2574</td>\n",
       "      <td>352100.0</td>\n",
       "      <td>NEAR BAY</td>\n",
       "    </tr>\n",
       "    <tr>\n",
       "      <th>3</th>\n",
       "      <td>-122.25</td>\n",
       "      <td>37.85</td>\n",
       "      <td>52.0</td>\n",
       "      <td>1274.0</td>\n",
       "      <td>235.0</td>\n",
       "      <td>558.0</td>\n",
       "      <td>219.0</td>\n",
       "      <td>5.6431</td>\n",
       "      <td>341300.0</td>\n",
       "      <td>NEAR BAY</td>\n",
       "    </tr>\n",
       "    <tr>\n",
       "      <th>4</th>\n",
       "      <td>-122.25</td>\n",
       "      <td>37.85</td>\n",
       "      <td>52.0</td>\n",
       "      <td>1627.0</td>\n",
       "      <td>280.0</td>\n",
       "      <td>565.0</td>\n",
       "      <td>259.0</td>\n",
       "      <td>3.8462</td>\n",
       "      <td>342200.0</td>\n",
       "      <td>NEAR BAY</td>\n",
       "    </tr>\n",
       "  </tbody>\n",
       "</table>\n",
       "</div>"
      ],
      "text/plain": [
       "   longitude  latitude  housing_median_age  total_rooms  total_bedrooms  \\\n",
       "0    -122.23     37.88                41.0        880.0           129.0   \n",
       "1    -122.22     37.86                21.0       7099.0          1106.0   \n",
       "2    -122.24     37.85                52.0       1467.0           190.0   \n",
       "3    -122.25     37.85                52.0       1274.0           235.0   \n",
       "4    -122.25     37.85                52.0       1627.0           280.0   \n",
       "\n",
       "   population  households  median_income  median_house_value ocean_proximity  \n",
       "0       322.0       126.0         8.3252            452600.0        NEAR BAY  \n",
       "1      2401.0      1138.0         8.3014            358500.0        NEAR BAY  \n",
       "2       496.0       177.0         7.2574            352100.0        NEAR BAY  \n",
       "3       558.0       219.0         5.6431            341300.0        NEAR BAY  \n",
       "4       565.0       259.0         3.8462            342200.0        NEAR BAY  "
      ]
     },
     "execution_count": 3,
     "metadata": {},
     "output_type": "execute_result"
    }
   ],
   "source": [
    "df.head()"
   ]
  },
  {
   "cell_type": "code",
   "execution_count": 4,
   "id": "c5e4ab56",
   "metadata": {},
   "outputs": [
    {
     "data": {
      "text/plain": [
       "(20640, 10)"
      ]
     },
     "execution_count": 4,
     "metadata": {},
     "output_type": "execute_result"
    }
   ],
   "source": [
    "df.shape"
   ]
  },
  {
   "cell_type": "code",
   "execution_count": 5,
   "id": "c8b1b93d",
   "metadata": {},
   "outputs": [
    {
     "name": "stdout",
     "output_type": "stream",
     "text": [
      "<class 'pandas.core.frame.DataFrame'>\n",
      "RangeIndex: 20640 entries, 0 to 20639\n",
      "Data columns (total 10 columns):\n",
      " #   Column              Non-Null Count  Dtype  \n",
      "---  ------              --------------  -----  \n",
      " 0   longitude           20640 non-null  float64\n",
      " 1   latitude            20640 non-null  float64\n",
      " 2   housing_median_age  20640 non-null  float64\n",
      " 3   total_rooms         20640 non-null  float64\n",
      " 4   total_bedrooms      20433 non-null  float64\n",
      " 5   population          20640 non-null  float64\n",
      " 6   households          20640 non-null  float64\n",
      " 7   median_income       20640 non-null  float64\n",
      " 8   median_house_value  20640 non-null  float64\n",
      " 9   ocean_proximity     20640 non-null  object \n",
      "dtypes: float64(9), object(1)\n",
      "memory usage: 1.6+ MB\n"
     ]
    }
   ],
   "source": [
    "df.info()"
   ]
  },
  {
   "cell_type": "code",
   "execution_count": 6,
   "id": "719dd5a0",
   "metadata": {},
   "outputs": [
    {
     "data": {
      "text/plain": [
       "longitude               0\n",
       "latitude                0\n",
       "housing_median_age      0\n",
       "total_rooms             0\n",
       "total_bedrooms        207\n",
       "population              0\n",
       "households              0\n",
       "median_income           0\n",
       "median_house_value      0\n",
       "ocean_proximity         0\n",
       "dtype: int64"
      ]
     },
     "execution_count": 6,
     "metadata": {},
     "output_type": "execute_result"
    }
   ],
   "source": [
    "df.isnull().sum()"
   ]
  },
  {
   "cell_type": "markdown",
   "id": "5f1acb1c",
   "metadata": {},
   "source": [
    "## Data preparation"
   ]
  },
  {
   "cell_type": "code",
   "execution_count": 7,
   "id": "883ad643",
   "metadata": {},
   "outputs": [
    {
     "data": {
      "text/plain": [
       "longitude             0\n",
       "latitude              0\n",
       "housing_median_age    0\n",
       "total_rooms           0\n",
       "total_bedrooms        0\n",
       "population            0\n",
       "households            0\n",
       "median_income         0\n",
       "median_house_value    0\n",
       "ocean_proximity       0\n",
       "dtype: int64"
      ]
     },
     "execution_count": 7,
     "metadata": {},
     "output_type": "execute_result"
    }
   ],
   "source": [
    "#Select only the features from above and fill in the missing values with 0.\n",
    "df_hw3 = df.fillna(0).copy()\n",
    "df_hw3.isnull().sum()"
   ]
  },
  {
   "cell_type": "code",
   "execution_count": 8,
   "id": "19a34866",
   "metadata": {},
   "outputs": [
    {
     "name": "stdout",
     "output_type": "stream",
     "text": [
      "Count of zeros in Column  total_bedrooms :  207\n"
     ]
    }
   ],
   "source": [
    "count = (df_hw3['total_bedrooms'] == 0).sum()\n",
    "print('Count of zeros in Column  total_bedrooms : ', count)"
   ]
  },
  {
   "cell_type": "code",
   "execution_count": 9,
   "id": "d75a5035",
   "metadata": {},
   "outputs": [],
   "source": [
    "#Replace all capitals with small and whitespaces with '_'\n",
    "df_hw3.columns = df_hw3.columns.str.lower().str.replace(' ', '_')\n",
    "\n",
    "string_columns = list(df_hw3.dtypes[df_hw3.dtypes == 'object'].index)\n",
    "\n",
    "for col in string_columns:\n",
    "    df_hw3[col] = df_hw3[col].str.lower().str.replace(' ', '_')"
   ]
  },
  {
   "cell_type": "code",
   "execution_count": 10,
   "id": "c84260ba",
   "metadata": {},
   "outputs": [
    {
     "name": "stdout",
     "output_type": "stream",
     "text": [
      "Count of zeros in Column  households :  0\n"
     ]
    }
   ],
   "source": [
    "#Create a new column rooms_per_household by dividing the column total_rooms by the column households from dataframe.\n",
    "count = (df_hw3['households'] == 0).sum()\n",
    "print('Count of zeros in Column  households : ', count)"
   ]
  },
  {
   "cell_type": "code",
   "execution_count": 11,
   "id": "9fe4c6cc",
   "metadata": {},
   "outputs": [
    {
     "name": "stdout",
     "output_type": "stream",
     "text": [
      "<class 'pandas.core.frame.DataFrame'>\n",
      "RangeIndex: 20640 entries, 0 to 20639\n",
      "Data columns (total 11 columns):\n",
      " #   Column               Non-Null Count  Dtype  \n",
      "---  ------               --------------  -----  \n",
      " 0   longitude            20640 non-null  float64\n",
      " 1   latitude             20640 non-null  float64\n",
      " 2   housing_median_age   20640 non-null  float64\n",
      " 3   total_rooms          20640 non-null  float64\n",
      " 4   total_bedrooms       20640 non-null  float64\n",
      " 5   population           20640 non-null  float64\n",
      " 6   households           20640 non-null  float64\n",
      " 7   median_income        20640 non-null  float64\n",
      " 8   median_house_value   20640 non-null  float64\n",
      " 9   ocean_proximity      20640 non-null  object \n",
      " 10  rooms_per_household  20640 non-null  float64\n",
      "dtypes: float64(10), object(1)\n",
      "memory usage: 1.7+ MB\n"
     ]
    }
   ],
   "source": [
    "df_hw3['rooms_per_household'] = df_hw3 ['total_rooms']/ df_hw3['households']\n",
    "df_hw3.info()"
   ]
  },
  {
   "cell_type": "markdown",
   "id": "e7b07c6f",
   "metadata": {},
   "source": [
    "## Feature Engineering"
   ]
  },
  {
   "cell_type": "code",
   "execution_count": 12,
   "id": "f141f67c",
   "metadata": {},
   "outputs": [
    {
     "name": "stdout",
     "output_type": "stream",
     "text": [
      "Count of zeros in Column  total_rooms :  0\n"
     ]
    }
   ],
   "source": [
    "#Create a new column bedrooms_per_room by dividing the column total_bedrooms by the column total_rooms from dataframe.\n",
    "count = (df_hw3['total_rooms'] == 0).sum()\n",
    "print('Count of zeros in Column  total_rooms : ', count)"
   ]
  },
  {
   "cell_type": "code",
   "execution_count": 13,
   "id": "9f404a15",
   "metadata": {},
   "outputs": [
    {
     "name": "stdout",
     "output_type": "stream",
     "text": [
      "<class 'pandas.core.frame.DataFrame'>\n",
      "RangeIndex: 20640 entries, 0 to 20639\n",
      "Data columns (total 12 columns):\n",
      " #   Column               Non-Null Count  Dtype  \n",
      "---  ------               --------------  -----  \n",
      " 0   longitude            20640 non-null  float64\n",
      " 1   latitude             20640 non-null  float64\n",
      " 2   housing_median_age   20640 non-null  float64\n",
      " 3   total_rooms          20640 non-null  float64\n",
      " 4   total_bedrooms       20640 non-null  float64\n",
      " 5   population           20640 non-null  float64\n",
      " 6   households           20640 non-null  float64\n",
      " 7   median_income        20640 non-null  float64\n",
      " 8   median_house_value   20640 non-null  float64\n",
      " 9   ocean_proximity      20640 non-null  object \n",
      " 10  rooms_per_household  20640 non-null  float64\n",
      " 11  bedrooms_per_room    20640 non-null  float64\n",
      "dtypes: float64(11), object(1)\n",
      "memory usage: 1.9+ MB\n"
     ]
    }
   ],
   "source": [
    "df_hw3['bedrooms_per_room'] = df_hw3 ['total_bedrooms']/ df_hw3['total_rooms']\n",
    "df_hw3.info()"
   ]
  },
  {
   "cell_type": "code",
   "execution_count": 14,
   "id": "acdf8a9c",
   "metadata": {},
   "outputs": [
    {
     "name": "stdout",
     "output_type": "stream",
     "text": [
      "<class 'pandas.core.frame.DataFrame'>\n",
      "RangeIndex: 20640 entries, 0 to 20639\n",
      "Data columns (total 13 columns):\n",
      " #   Column                    Non-Null Count  Dtype  \n",
      "---  ------                    --------------  -----  \n",
      " 0   longitude                 20640 non-null  float64\n",
      " 1   latitude                  20640 non-null  float64\n",
      " 2   housing_median_age        20640 non-null  float64\n",
      " 3   total_rooms               20640 non-null  float64\n",
      " 4   total_bedrooms            20640 non-null  float64\n",
      " 5   population                20640 non-null  float64\n",
      " 6   households                20640 non-null  float64\n",
      " 7   median_income             20640 non-null  float64\n",
      " 8   median_house_value        20640 non-null  float64\n",
      " 9   ocean_proximity           20640 non-null  object \n",
      " 10  rooms_per_household       20640 non-null  float64\n",
      " 11  bedrooms_per_room         20640 non-null  float64\n",
      " 12  population_per_household  20640 non-null  float64\n",
      "dtypes: float64(12), object(1)\n",
      "memory usage: 2.0+ MB\n"
     ]
    }
   ],
   "source": [
    "#Create a new column population_per_household by dividing the column population by the column households from dataframe.\n",
    "#We have already checked zeroes in 'households'\n",
    "df_hw3['population_per_household'] = df_hw3 ['population']/ df_hw3['households']\n",
    "df_hw3.info()"
   ]
  },
  {
   "cell_type": "markdown",
   "id": "f13d61e3",
   "metadata": {},
   "source": [
    "# Question 1"
   ]
  },
  {
   "cell_type": "markdown",
   "id": "fbe5d1d4",
   "metadata": {},
   "source": [
    "What is the most frequent observation (mode) for the column ocean_proximity?"
   ]
  },
  {
   "cell_type": "code",
   "execution_count": 15,
   "id": "d0fb15f9",
   "metadata": {},
   "outputs": [
    {
     "data": {
      "text/plain": [
       "<1h_ocean     9136\n",
       "inland        6551\n",
       "near_ocean    2658\n",
       "near_bay      2290\n",
       "island           5\n",
       "Name: ocean_proximity, dtype: int64"
      ]
     },
     "execution_count": 15,
     "metadata": {},
     "output_type": "execute_result"
    }
   ],
   "source": [
    "df_hw3['ocean_proximity'].value_counts()"
   ]
  },
  {
   "cell_type": "markdown",
   "id": "692174e8",
   "metadata": {},
   "source": [
    "- Answer for question 1 is <1h_ocean "
   ]
  },
  {
   "cell_type": "markdown",
   "id": "1a3d29e5",
   "metadata": {},
   "source": [
    "## Split the data"
   ]
  },
  {
   "cell_type": "markdown",
   "id": "0a6519a0",
   "metadata": {},
   "source": [
    "- Split your data in train/val/test sets, with 60%/20%/20% distribution.\n",
    "- Use Scikit-Learn for that (the train_test_split function) and set the seed to 42.\n",
    "- Make sure that the target value (median_house_value) is not in your dataframe."
   ]
  },
  {
   "cell_type": "code",
   "execution_count": 16,
   "id": "2dbe867b",
   "metadata": {},
   "outputs": [],
   "source": [
    "from sklearn.model_selection import train_test_split"
   ]
  },
  {
   "cell_type": "code",
   "execution_count": 17,
   "id": "45d4307b",
   "metadata": {},
   "outputs": [],
   "source": [
    "#train_test_split?"
   ]
  },
  {
   "cell_type": "code",
   "execution_count": 18,
   "id": "9f772abc",
   "metadata": {},
   "outputs": [],
   "source": [
    "df_train_full, df_test = train_test_split(df_hw3, test_size=0.2, random_state=42)"
   ]
  },
  {
   "cell_type": "markdown",
   "id": "22c10ec3",
   "metadata": {},
   "source": [
    "The df_train_full has 80% of all data we need to create df_train 60% of all data and df_val 20% of all data.\n",
    "The proportion is 20/80=0.25 which means 25% of df_train_full(80% of all data) makes 20% of all data for df_val"
   ]
  },
  {
   "cell_type": "code",
   "execution_count": 19,
   "id": "15ab367d",
   "metadata": {},
   "outputs": [],
   "source": [
    "df_train, df_val = train_test_split(df_train_full, test_size=0.25, random_state=42)"
   ]
  },
  {
   "cell_type": "code",
   "execution_count": 20,
   "id": "7f904ed6",
   "metadata": {},
   "outputs": [],
   "source": [
    "y_train = df_train.median_house_value.values\n",
    "y_val = df_val.median_house_value.values\n",
    "y_test = df_test.median_house_value.values"
   ]
  },
  {
   "cell_type": "code",
   "execution_count": 21,
   "id": "cfe1d4d4",
   "metadata": {},
   "outputs": [],
   "source": [
    "del df_train['median_house_value']\n",
    "del df_val['median_house_value']\n",
    "del df_test['median_house_value']"
   ]
  },
  {
   "cell_type": "code",
   "execution_count": 22,
   "id": "70bee53f",
   "metadata": {},
   "outputs": [
    {
     "name": "stdout",
     "output_type": "stream",
     "text": [
      "(12384, 12) (4128, 12) (4128, 12) (16512, 13)\n",
      "(12384,) (4128,) (4128,)\n"
     ]
    },
    {
     "data": {
      "text/html": [
       "<div>\n",
       "<style scoped>\n",
       "    .dataframe tbody tr th:only-of-type {\n",
       "        vertical-align: middle;\n",
       "    }\n",
       "\n",
       "    .dataframe tbody tr th {\n",
       "        vertical-align: top;\n",
       "    }\n",
       "\n",
       "    .dataframe thead th {\n",
       "        text-align: right;\n",
       "    }\n",
       "</style>\n",
       "<table border=\"1\" class=\"dataframe\">\n",
       "  <thead>\n",
       "    <tr style=\"text-align: right;\">\n",
       "      <th></th>\n",
       "      <th>longitude</th>\n",
       "      <th>latitude</th>\n",
       "      <th>housing_median_age</th>\n",
       "      <th>total_rooms</th>\n",
       "      <th>total_bedrooms</th>\n",
       "      <th>population</th>\n",
       "      <th>households</th>\n",
       "      <th>median_income</th>\n",
       "      <th>ocean_proximity</th>\n",
       "      <th>rooms_per_household</th>\n",
       "      <th>bedrooms_per_room</th>\n",
       "      <th>population_per_household</th>\n",
       "    </tr>\n",
       "  </thead>\n",
       "  <tbody>\n",
       "    <tr>\n",
       "      <th>0</th>\n",
       "      <td>-119.67</td>\n",
       "      <td>34.43</td>\n",
       "      <td>39.0</td>\n",
       "      <td>1467.0</td>\n",
       "      <td>381.0</td>\n",
       "      <td>1404.0</td>\n",
       "      <td>374.0</td>\n",
       "      <td>2.3681</td>\n",
       "      <td>&lt;1h_ocean</td>\n",
       "      <td>3.922460</td>\n",
       "      <td>0.259714</td>\n",
       "      <td>3.754011</td>\n",
       "    </tr>\n",
       "    <tr>\n",
       "      <th>1</th>\n",
       "      <td>-118.32</td>\n",
       "      <td>33.74</td>\n",
       "      <td>24.0</td>\n",
       "      <td>6097.0</td>\n",
       "      <td>794.0</td>\n",
       "      <td>2248.0</td>\n",
       "      <td>806.0</td>\n",
       "      <td>10.1357</td>\n",
       "      <td>near_ocean</td>\n",
       "      <td>7.564516</td>\n",
       "      <td>0.130228</td>\n",
       "      <td>2.789082</td>\n",
       "    </tr>\n",
       "    <tr>\n",
       "      <th>2</th>\n",
       "      <td>-121.62</td>\n",
       "      <td>39.13</td>\n",
       "      <td>41.0</td>\n",
       "      <td>1317.0</td>\n",
       "      <td>309.0</td>\n",
       "      <td>856.0</td>\n",
       "      <td>337.0</td>\n",
       "      <td>1.6719</td>\n",
       "      <td>inland</td>\n",
       "      <td>3.908012</td>\n",
       "      <td>0.234624</td>\n",
       "      <td>2.540059</td>\n",
       "    </tr>\n",
       "    <tr>\n",
       "      <th>3</th>\n",
       "      <td>-118.63</td>\n",
       "      <td>34.24</td>\n",
       "      <td>9.0</td>\n",
       "      <td>4759.0</td>\n",
       "      <td>924.0</td>\n",
       "      <td>1884.0</td>\n",
       "      <td>915.0</td>\n",
       "      <td>4.8333</td>\n",
       "      <td>&lt;1h_ocean</td>\n",
       "      <td>5.201093</td>\n",
       "      <td>0.194158</td>\n",
       "      <td>2.059016</td>\n",
       "    </tr>\n",
       "    <tr>\n",
       "      <th>4</th>\n",
       "      <td>-122.30</td>\n",
       "      <td>37.52</td>\n",
       "      <td>38.0</td>\n",
       "      <td>2769.0</td>\n",
       "      <td>387.0</td>\n",
       "      <td>994.0</td>\n",
       "      <td>395.0</td>\n",
       "      <td>5.5902</td>\n",
       "      <td>near_ocean</td>\n",
       "      <td>7.010127</td>\n",
       "      <td>0.139762</td>\n",
       "      <td>2.516456</td>\n",
       "    </tr>\n",
       "  </tbody>\n",
       "</table>\n",
       "</div>"
      ],
      "text/plain": [
       "   longitude  latitude  housing_median_age  total_rooms  total_bedrooms  \\\n",
       "0    -119.67     34.43                39.0       1467.0           381.0   \n",
       "1    -118.32     33.74                24.0       6097.0           794.0   \n",
       "2    -121.62     39.13                41.0       1317.0           309.0   \n",
       "3    -118.63     34.24                 9.0       4759.0           924.0   \n",
       "4    -122.30     37.52                38.0       2769.0           387.0   \n",
       "\n",
       "   population  households  median_income ocean_proximity  rooms_per_household  \\\n",
       "0      1404.0       374.0         2.3681       <1h_ocean             3.922460   \n",
       "1      2248.0       806.0        10.1357      near_ocean             7.564516   \n",
       "2       856.0       337.0         1.6719          inland             3.908012   \n",
       "3      1884.0       915.0         4.8333       <1h_ocean             5.201093   \n",
       "4       994.0       395.0         5.5902      near_ocean             7.010127   \n",
       "\n",
       "   bedrooms_per_room  population_per_household  \n",
       "0           0.259714                  3.754011  \n",
       "1           0.130228                  2.789082  \n",
       "2           0.234624                  2.540059  \n",
       "3           0.194158                  2.059016  \n",
       "4           0.139762                  2.516456  "
      ]
     },
     "execution_count": 22,
     "metadata": {},
     "output_type": "execute_result"
    }
   ],
   "source": [
    "#reset and drop index\n",
    "df_train_full = df_train_full.reset_index(drop=True)\n",
    "df_train = df_train.reset_index(drop=True)\n",
    "df_val = df_val.reset_index(drop=True)\n",
    "df_test = df_test.reset_index(drop=True)\n",
    "\n",
    "print(df_train.shape, df_val.shape, df_test.shape, df_train_full.shape)\n",
    "print(y_train.shape, y_val.shape, y_test.shape)\n",
    "df_train.head()"
   ]
  },
  {
   "cell_type": "markdown",
   "id": "9c9293ad",
   "metadata": {},
   "source": [
    "# Question 2 Correlation Matrix"
   ]
  },
  {
   "cell_type": "markdown",
   "id": "b5cbd087",
   "metadata": {},
   "source": [
    "- Create the correlation matrix for the numerical features of your train dataset.\n",
    "    - In a correlation matrix, you compute the correlation coefficient between every pair of features in the dataset.\n",
    "- What are the two features that have the biggest correlation in this dataset?<br>\n",
    "<br>\n",
    "Options:<br>\n",
    "<br>\n",
    "- total_bedrooms and households\n",
    "- total_bedrooms and total_rooms\n",
    "- population and households\n",
    "- population_per_household and total_rooms"
   ]
  },
  {
   "cell_type": "code",
   "execution_count": 23,
   "id": "82f6d8e5",
   "metadata": {},
   "outputs": [
    {
     "data": {
      "text/plain": [
       "longitude                  -0.046349\n",
       "latitude                   -0.142983\n",
       "housing_median_age          0.103706\n",
       "total_rooms                 0.133989\n",
       "total_bedrooms              0.047980\n",
       "population                 -0.026032\n",
       "households                  0.063714\n",
       "median_income               0.690647\n",
       "median_house_value          1.000000\n",
       "rooms_per_household         0.158485\n",
       "bedrooms_per_room          -0.257419\n",
       "population_per_household   -0.022030\n",
       "dtype: float64"
      ]
     },
     "execution_count": 23,
     "metadata": {},
     "output_type": "execute_result"
    }
   ],
   "source": [
    "df_train_full.corrwith(df_train_full.median_house_value)"
   ]
  },
  {
   "cell_type": "markdown",
   "id": "d0490245",
   "metadata": {},
   "source": [
    "based on: https://stackoverflow.com/questions/17778394/list-highest-correlation-pairs-from-a-large-correlation-matrix-in-pandas"
   ]
  },
  {
   "cell_type": "code",
   "execution_count": 24,
   "id": "0776cbdd",
   "metadata": {},
   "outputs": [],
   "source": [
    "df_train_full_num = df_train_full.drop(columns=['ocean_proximity']).copy()"
   ]
  },
  {
   "cell_type": "code",
   "execution_count": 25,
   "id": "556e1ac5",
   "metadata": {},
   "outputs": [
    {
     "data": {
      "text/html": [
       "<div>\n",
       "<style scoped>\n",
       "    .dataframe tbody tr th:only-of-type {\n",
       "        vertical-align: middle;\n",
       "    }\n",
       "\n",
       "    .dataframe tbody tr th {\n",
       "        vertical-align: top;\n",
       "    }\n",
       "\n",
       "    .dataframe thead th {\n",
       "        text-align: right;\n",
       "    }\n",
       "</style>\n",
       "<table border=\"1\" class=\"dataframe\">\n",
       "  <thead>\n",
       "    <tr style=\"text-align: right;\">\n",
       "      <th></th>\n",
       "      <th>longitude</th>\n",
       "      <th>latitude</th>\n",
       "      <th>housing_median_age</th>\n",
       "      <th>total_rooms</th>\n",
       "      <th>total_bedrooms</th>\n",
       "      <th>population</th>\n",
       "      <th>households</th>\n",
       "      <th>median_income</th>\n",
       "      <th>median_house_value</th>\n",
       "      <th>rooms_per_household</th>\n",
       "      <th>bedrooms_per_room</th>\n",
       "      <th>population_per_household</th>\n",
       "    </tr>\n",
       "  </thead>\n",
       "  <tbody>\n",
       "    <tr>\n",
       "      <th>longitude</th>\n",
       "      <td>1.000000</td>\n",
       "      <td>-0.924485</td>\n",
       "      <td>-0.101818</td>\n",
       "      <td>0.038676</td>\n",
       "      <td>0.063064</td>\n",
       "      <td>0.094276</td>\n",
       "      <td>0.049306</td>\n",
       "      <td>-0.017040</td>\n",
       "      <td>-0.046349</td>\n",
       "      <td>-0.029339</td>\n",
       "      <td>0.097280</td>\n",
       "      <td>-0.000598</td>\n",
       "    </tr>\n",
       "    <tr>\n",
       "      <th>latitude</th>\n",
       "      <td>-0.924485</td>\n",
       "      <td>1.000000</td>\n",
       "      <td>0.005296</td>\n",
       "      <td>-0.029224</td>\n",
       "      <td>-0.059998</td>\n",
       "      <td>-0.102499</td>\n",
       "      <td>-0.064061</td>\n",
       "      <td>-0.076571</td>\n",
       "      <td>-0.142983</td>\n",
       "      <td>0.110695</td>\n",
       "      <td>-0.118938</td>\n",
       "      <td>0.005837</td>\n",
       "    </tr>\n",
       "    <tr>\n",
       "      <th>housing_median_age</th>\n",
       "      <td>-0.101818</td>\n",
       "      <td>0.005296</td>\n",
       "      <td>1.000000</td>\n",
       "      <td>-0.360922</td>\n",
       "      <td>-0.320624</td>\n",
       "      <td>-0.292283</td>\n",
       "      <td>-0.302796</td>\n",
       "      <td>-0.121711</td>\n",
       "      <td>0.103706</td>\n",
       "      <td>-0.160892</td>\n",
       "      <td>0.135495</td>\n",
       "      <td>0.016245</td>\n",
       "    </tr>\n",
       "    <tr>\n",
       "      <th>total_rooms</th>\n",
       "      <td>0.038676</td>\n",
       "      <td>-0.029224</td>\n",
       "      <td>-0.360922</td>\n",
       "      <td>1.000000</td>\n",
       "      <td>0.930489</td>\n",
       "      <td>0.857936</td>\n",
       "      <td>0.920482</td>\n",
       "      <td>0.198268</td>\n",
       "      <td>0.133989</td>\n",
       "      <td>0.136090</td>\n",
       "      <td>-0.189316</td>\n",
       "      <td>-0.024991</td>\n",
       "    </tr>\n",
       "    <tr>\n",
       "      <th>total_bedrooms</th>\n",
       "      <td>0.063064</td>\n",
       "      <td>-0.059998</td>\n",
       "      <td>-0.320624</td>\n",
       "      <td>0.930489</td>\n",
       "      <td>1.000000</td>\n",
       "      <td>0.878932</td>\n",
       "      <td>0.980255</td>\n",
       "      <td>-0.009141</td>\n",
       "      <td>0.047980</td>\n",
       "      <td>-0.001659</td>\n",
       "      <td>0.084149</td>\n",
       "      <td>-0.028536</td>\n",
       "    </tr>\n",
       "    <tr>\n",
       "      <th>population</th>\n",
       "      <td>0.094276</td>\n",
       "      <td>-0.102499</td>\n",
       "      <td>-0.292283</td>\n",
       "      <td>0.857936</td>\n",
       "      <td>0.878932</td>\n",
       "      <td>1.000000</td>\n",
       "      <td>0.907452</td>\n",
       "      <td>0.004122</td>\n",
       "      <td>-0.026032</td>\n",
       "      <td>-0.073733</td>\n",
       "      <td>0.035134</td>\n",
       "      <td>0.072330</td>\n",
       "    </tr>\n",
       "    <tr>\n",
       "      <th>households</th>\n",
       "      <td>0.049306</td>\n",
       "      <td>-0.064061</td>\n",
       "      <td>-0.302796</td>\n",
       "      <td>0.920482</td>\n",
       "      <td>0.980255</td>\n",
       "      <td>0.907452</td>\n",
       "      <td>1.000000</td>\n",
       "      <td>0.012776</td>\n",
       "      <td>0.063714</td>\n",
       "      <td>-0.083062</td>\n",
       "      <td>0.064185</td>\n",
       "      <td>-0.027656</td>\n",
       "    </tr>\n",
       "    <tr>\n",
       "      <th>median_income</th>\n",
       "      <td>-0.017040</td>\n",
       "      <td>-0.076571</td>\n",
       "      <td>-0.121711</td>\n",
       "      <td>0.198268</td>\n",
       "      <td>-0.009141</td>\n",
       "      <td>0.004122</td>\n",
       "      <td>0.012776</td>\n",
       "      <td>1.000000</td>\n",
       "      <td>0.690647</td>\n",
       "      <td>0.336013</td>\n",
       "      <td>-0.616669</td>\n",
       "      <td>0.022061</td>\n",
       "    </tr>\n",
       "    <tr>\n",
       "      <th>median_house_value</th>\n",
       "      <td>-0.046349</td>\n",
       "      <td>-0.142983</td>\n",
       "      <td>0.103706</td>\n",
       "      <td>0.133989</td>\n",
       "      <td>0.047980</td>\n",
       "      <td>-0.026032</td>\n",
       "      <td>0.063714</td>\n",
       "      <td>0.690647</td>\n",
       "      <td>1.000000</td>\n",
       "      <td>0.158485</td>\n",
       "      <td>-0.257419</td>\n",
       "      <td>-0.022030</td>\n",
       "    </tr>\n",
       "    <tr>\n",
       "      <th>rooms_per_household</th>\n",
       "      <td>-0.029339</td>\n",
       "      <td>0.110695</td>\n",
       "      <td>-0.160892</td>\n",
       "      <td>0.136090</td>\n",
       "      <td>-0.001659</td>\n",
       "      <td>-0.073733</td>\n",
       "      <td>-0.083062</td>\n",
       "      <td>0.336013</td>\n",
       "      <td>0.158485</td>\n",
       "      <td>1.000000</td>\n",
       "      <td>-0.435169</td>\n",
       "      <td>-0.004922</td>\n",
       "    </tr>\n",
       "    <tr>\n",
       "      <th>bedrooms_per_room</th>\n",
       "      <td>0.097280</td>\n",
       "      <td>-0.118938</td>\n",
       "      <td>0.135495</td>\n",
       "      <td>-0.189316</td>\n",
       "      <td>0.084149</td>\n",
       "      <td>0.035134</td>\n",
       "      <td>0.064185</td>\n",
       "      <td>-0.616669</td>\n",
       "      <td>-0.257419</td>\n",
       "      <td>-0.435169</td>\n",
       "      <td>1.000000</td>\n",
       "      <td>0.003938</td>\n",
       "    </tr>\n",
       "    <tr>\n",
       "      <th>population_per_household</th>\n",
       "      <td>-0.000598</td>\n",
       "      <td>0.005837</td>\n",
       "      <td>0.016245</td>\n",
       "      <td>-0.024991</td>\n",
       "      <td>-0.028536</td>\n",
       "      <td>0.072330</td>\n",
       "      <td>-0.027656</td>\n",
       "      <td>0.022061</td>\n",
       "      <td>-0.022030</td>\n",
       "      <td>-0.004922</td>\n",
       "      <td>0.003938</td>\n",
       "      <td>1.000000</td>\n",
       "    </tr>\n",
       "  </tbody>\n",
       "</table>\n",
       "</div>"
      ],
      "text/plain": [
       "                          longitude  latitude  housing_median_age  \\\n",
       "longitude                  1.000000 -0.924485           -0.101818   \n",
       "latitude                  -0.924485  1.000000            0.005296   \n",
       "housing_median_age        -0.101818  0.005296            1.000000   \n",
       "total_rooms                0.038676 -0.029224           -0.360922   \n",
       "total_bedrooms             0.063064 -0.059998           -0.320624   \n",
       "population                 0.094276 -0.102499           -0.292283   \n",
       "households                 0.049306 -0.064061           -0.302796   \n",
       "median_income             -0.017040 -0.076571           -0.121711   \n",
       "median_house_value        -0.046349 -0.142983            0.103706   \n",
       "rooms_per_household       -0.029339  0.110695           -0.160892   \n",
       "bedrooms_per_room          0.097280 -0.118938            0.135495   \n",
       "population_per_household  -0.000598  0.005837            0.016245   \n",
       "\n",
       "                          total_rooms  total_bedrooms  population  households  \\\n",
       "longitude                    0.038676        0.063064    0.094276    0.049306   \n",
       "latitude                    -0.029224       -0.059998   -0.102499   -0.064061   \n",
       "housing_median_age          -0.360922       -0.320624   -0.292283   -0.302796   \n",
       "total_rooms                  1.000000        0.930489    0.857936    0.920482   \n",
       "total_bedrooms               0.930489        1.000000    0.878932    0.980255   \n",
       "population                   0.857936        0.878932    1.000000    0.907452   \n",
       "households                   0.920482        0.980255    0.907452    1.000000   \n",
       "median_income                0.198268       -0.009141    0.004122    0.012776   \n",
       "median_house_value           0.133989        0.047980   -0.026032    0.063714   \n",
       "rooms_per_household          0.136090       -0.001659   -0.073733   -0.083062   \n",
       "bedrooms_per_room           -0.189316        0.084149    0.035134    0.064185   \n",
       "population_per_household    -0.024991       -0.028536    0.072330   -0.027656   \n",
       "\n",
       "                          median_income  median_house_value  \\\n",
       "longitude                     -0.017040           -0.046349   \n",
       "latitude                      -0.076571           -0.142983   \n",
       "housing_median_age            -0.121711            0.103706   \n",
       "total_rooms                    0.198268            0.133989   \n",
       "total_bedrooms                -0.009141            0.047980   \n",
       "population                     0.004122           -0.026032   \n",
       "households                     0.012776            0.063714   \n",
       "median_income                  1.000000            0.690647   \n",
       "median_house_value             0.690647            1.000000   \n",
       "rooms_per_household            0.336013            0.158485   \n",
       "bedrooms_per_room             -0.616669           -0.257419   \n",
       "population_per_household       0.022061           -0.022030   \n",
       "\n",
       "                          rooms_per_household  bedrooms_per_room  \\\n",
       "longitude                           -0.029339           0.097280   \n",
       "latitude                             0.110695          -0.118938   \n",
       "housing_median_age                  -0.160892           0.135495   \n",
       "total_rooms                          0.136090          -0.189316   \n",
       "total_bedrooms                      -0.001659           0.084149   \n",
       "population                          -0.073733           0.035134   \n",
       "households                          -0.083062           0.064185   \n",
       "median_income                        0.336013          -0.616669   \n",
       "median_house_value                   0.158485          -0.257419   \n",
       "rooms_per_household                  1.000000          -0.435169   \n",
       "bedrooms_per_room                   -0.435169           1.000000   \n",
       "population_per_household            -0.004922           0.003938   \n",
       "\n",
       "                          population_per_household  \n",
       "longitude                                -0.000598  \n",
       "latitude                                  0.005837  \n",
       "housing_median_age                        0.016245  \n",
       "total_rooms                              -0.024991  \n",
       "total_bedrooms                           -0.028536  \n",
       "population                                0.072330  \n",
       "households                               -0.027656  \n",
       "median_income                             0.022061  \n",
       "median_house_value                       -0.022030  \n",
       "rooms_per_household                      -0.004922  \n",
       "bedrooms_per_room                         0.003938  \n",
       "population_per_household                  1.000000  "
      ]
     },
     "execution_count": 25,
     "metadata": {},
     "output_type": "execute_result"
    }
   ],
   "source": [
    "df_train_full_num.corr()"
   ]
  },
  {
   "cell_type": "code",
   "execution_count": 26,
   "id": "641e3875",
   "metadata": {},
   "outputs": [],
   "source": [
    "def get_redundant_pairs(df):\n",
    "    '''Get diagonal and lower triangular pairs of correlation matrix'''\n",
    "    pairs_to_drop = set()\n",
    "    cols = df.columns\n",
    "    for i in range(0, df.shape[1]):\n",
    "        for j in range(0, i+1):\n",
    "            pairs_to_drop.add((cols[i], cols[j]))\n",
    "    return pairs_to_drop"
   ]
  },
  {
   "cell_type": "code",
   "execution_count": 27,
   "id": "c539cbe5",
   "metadata": {},
   "outputs": [],
   "source": [
    "labels_to_drop = get_redundant_pairs(df_train_full_num)\n",
    "corr_val = df_train_full.corr().abs().unstack().sort_values(ascending=False)\n",
    "corr_val = corr_val.drop(labels=labels_to_drop)"
   ]
  },
  {
   "cell_type": "code",
   "execution_count": 28,
   "id": "f7bb0e0d",
   "metadata": {
    "scrolled": true
   },
   "outputs": [
    {
     "name": "stdout",
     "output_type": "stream",
     "text": [
      "Top Absolute Correlations\n",
      " \n",
      " total_bedrooms  households        0.980255\n",
      "total_rooms     total_bedrooms    0.930489\n",
      "longitude       latitude          0.924485\n",
      "total_rooms     households        0.920482\n",
      "population      households        0.907452\n",
      "dtype: float64\n"
     ]
    }
   ],
   "source": [
    "print(\"Top Absolute Correlations\\n\",\"\\n\", corr_val[0:5])"
   ]
  },
  {
   "cell_type": "markdown",
   "id": "9198f4bf",
   "metadata": {},
   "source": [
    "- Answer for Question 2 is total_bedrooms / households        0.980255"
   ]
  },
  {
   "cell_type": "markdown",
   "id": "a44328fd",
   "metadata": {},
   "source": [
    "### Make median_house_value binary<br>\n",
    "- We need to turn the median_house_value variable from numeric into binary.\n",
    "- Let's create a variable above_average which is 1 if the median_house_value is above its mean value and 0 otherwise."
   ]
  },
  {
   "cell_type": "code",
   "execution_count": 29,
   "id": "07557a11",
   "metadata": {},
   "outputs": [],
   "source": [
    "df_train_full['above_average'] = (df_train_full['median_house_value']>df_train_full['median_house_value'].mean()).astype(int)"
   ]
  },
  {
   "cell_type": "code",
   "execution_count": 30,
   "id": "d1b901b9",
   "metadata": {},
   "outputs": [],
   "source": [
    "y_train_cat = (y_train > y_train.mean()).astype(int)\n",
    "y_val_cat = (y_val > y_train.mean()).astype(int)\n",
    "y_test_cat = (y_test > y_train.mean()).astype(int)"
   ]
  },
  {
   "cell_type": "code",
   "execution_count": 31,
   "id": "a263c1e5",
   "metadata": {},
   "outputs": [
    {
     "data": {
      "text/plain": [
       "0    0.593144\n",
       "1    0.406856\n",
       "Name: above_average, dtype: float64"
      ]
     },
     "execution_count": 31,
     "metadata": {},
     "output_type": "execute_result"
    }
   ],
   "source": [
    "df_train_full.above_average.value_counts(normalize=True)"
   ]
  },
  {
   "cell_type": "markdown",
   "id": "930dc61d",
   "metadata": {},
   "source": [
    "# Question 3 Mutual Information"
   ]
  },
  {
   "cell_type": "markdown",
   "id": "9c3663eb",
   "metadata": {},
   "source": [
    "- Calculate the mutual information score with the (binarized) price for the categorical variable that we have. Use the training set only.\n",
    "- What is the value of mutual information?\n",
    "- Round it to 2 decimal digits using round(score, 2)<br>\n",
    "<br>\n",
    "Options:<br>\n",
    "- 0.263\n",
    "- 0.00001\n",
    "- 0.101\n",
    "- 0.15555"
   ]
  },
  {
   "cell_type": "code",
   "execution_count": 32,
   "id": "2716e2d4",
   "metadata": {},
   "outputs": [],
   "source": [
    "from sklearn.metrics import mutual_info_score"
   ]
  },
  {
   "cell_type": "code",
   "execution_count": 33,
   "id": "bf9e72db",
   "metadata": {},
   "outputs": [
    {
     "name": "stdout",
     "output_type": "stream",
     "text": [
      "0.1014306752368672\n"
     ]
    }
   ],
   "source": [
    "mut_score = mutual_info_score(df_train_full.above_average, df_train_full.ocean_proximity)\n",
    "print(mut_score)"
   ]
  },
  {
   "cell_type": "code",
   "execution_count": 34,
   "id": "c1aaf09e",
   "metadata": {},
   "outputs": [
    {
     "name": "stdout",
     "output_type": "stream",
     "text": [
      "0.1\n"
     ]
    }
   ],
   "source": [
    "print(round(mut_score, 2))"
   ]
  },
  {
   "cell_type": "markdown",
   "id": "8134f330",
   "metadata": {},
   "source": [
    "- Answer for Question 3 is 0.10"
   ]
  },
  {
   "cell_type": "markdown",
   "id": "434384a4",
   "metadata": {},
   "source": [
    "# Question 4 Logistic Regression and Accuracy"
   ]
  },
  {
   "cell_type": "markdown",
   "id": "84ac8d1e",
   "metadata": {},
   "source": [
    "- Now let's train a logistic regression\n",
    "- Remember that we have one categorical variable ocean_proximity in the data. Include it using one-hot encoding.\n",
    "- Fit the model on the training dataset.\n",
    "    - To make sure the results are reproducible across different versions of Scikit-Learn, fit the model with these parameters:\n",
    "    - model = LogisticRegression(solver=\"liblinear\", C=1.0, max_iter=1000, random_state=42)\n",
    "- Calculate the accuracy on the validation dataset and round it to 2 decimal digits.<br>\n",
    "<br>\n",
    "Options:<br>\n",
    "\n",
    "- 0.60\n",
    "- 0.72\n",
    "- 0.84\n",
    "- 0.95"
   ]
  },
  {
   "cell_type": "markdown",
   "id": "8a8baec0",
   "metadata": {},
   "source": [
    "## one-hot encoding"
   ]
  },
  {
   "cell_type": "code",
   "execution_count": 35,
   "id": "5c2dc566",
   "metadata": {},
   "outputs": [],
   "source": [
    "from sklearn.feature_extraction import DictVectorizer"
   ]
  },
  {
   "cell_type": "code",
   "execution_count": 36,
   "id": "c0348637",
   "metadata": {},
   "outputs": [
    {
     "data": {
      "text/plain": [
       "longitude                   float64\n",
       "latitude                    float64\n",
       "housing_median_age          float64\n",
       "total_rooms                 float64\n",
       "total_bedrooms              float64\n",
       "population                  float64\n",
       "households                  float64\n",
       "median_income               float64\n",
       "median_house_value          float64\n",
       "ocean_proximity              object\n",
       "rooms_per_household         float64\n",
       "bedrooms_per_room           float64\n",
       "population_per_household    float64\n",
       "above_average                 int32\n",
       "dtype: object"
      ]
     },
     "execution_count": 36,
     "metadata": {},
     "output_type": "execute_result"
    }
   ],
   "source": [
    "df_train_full.dtypes"
   ]
  },
  {
   "cell_type": "code",
   "execution_count": 37,
   "id": "948574cc",
   "metadata": {},
   "outputs": [],
   "source": [
    "#we have one categorical variable ocean_proximity in the data. \n",
    "#Include it using one-hot encoding.\n",
    "train_dict = df_train.to_dict(orient='records')"
   ]
  },
  {
   "cell_type": "code",
   "execution_count": 38,
   "id": "a022627d",
   "metadata": {},
   "outputs": [
    {
     "data": {
      "text/plain": [
       "{'longitude': -119.67,\n",
       " 'latitude': 34.43,\n",
       " 'housing_median_age': 39.0,\n",
       " 'total_rooms': 1467.0,\n",
       " 'total_bedrooms': 381.0,\n",
       " 'population': 1404.0,\n",
       " 'households': 374.0,\n",
       " 'median_income': 2.3681,\n",
       " 'ocean_proximity': '<1h_ocean',\n",
       " 'rooms_per_household': 3.9224598930481283,\n",
       " 'bedrooms_per_room': 0.25971370143149286,\n",
       " 'population_per_household': 3.7540106951871657}"
      ]
     },
     "execution_count": 38,
     "metadata": {},
     "output_type": "execute_result"
    }
   ],
   "source": [
    "train_dict[0]"
   ]
  },
  {
   "cell_type": "code",
   "execution_count": 39,
   "id": "8186983c",
   "metadata": {},
   "outputs": [
    {
     "data": {
      "text/plain": [
       "DictVectorizer(sparse=False)"
      ]
     },
     "execution_count": 39,
     "metadata": {},
     "output_type": "execute_result"
    }
   ],
   "source": [
    "dv = DictVectorizer(sparse=False)\n",
    "dv.fit(train_dict)"
   ]
  },
  {
   "cell_type": "code",
   "execution_count": 40,
   "id": "e355602a",
   "metadata": {},
   "outputs": [],
   "source": [
    "X_train = dv.transform(train_dict)"
   ]
  },
  {
   "cell_type": "code",
   "execution_count": 41,
   "id": "6bf60c14",
   "metadata": {},
   "outputs": [
    {
     "data": {
      "text/plain": [
       "(12384, 16)"
      ]
     },
     "execution_count": 41,
     "metadata": {},
     "output_type": "execute_result"
    }
   ],
   "source": [
    "X_train.shape"
   ]
  },
  {
   "cell_type": "code",
   "execution_count": 42,
   "id": "120868f6",
   "metadata": {},
   "outputs": [
    {
     "data": {
      "text/plain": [
       "array(['bedrooms_per_room', 'households', 'housing_median_age',\n",
       "       'latitude', 'longitude', 'median_income',\n",
       "       'ocean_proximity=<1h_ocean', 'ocean_proximity=inland',\n",
       "       'ocean_proximity=island', 'ocean_proximity=near_bay',\n",
       "       'ocean_proximity=near_ocean', 'population',\n",
       "       'population_per_household', 'rooms_per_household',\n",
       "       'total_bedrooms', 'total_rooms'], dtype=object)"
      ]
     },
     "execution_count": 42,
     "metadata": {},
     "output_type": "execute_result"
    }
   ],
   "source": [
    "dv.get_feature_names_out()"
   ]
  },
  {
   "cell_type": "markdown",
   "id": "029ef7e8",
   "metadata": {},
   "source": [
    "## Training logistic regression"
   ]
  },
  {
   "cell_type": "code",
   "execution_count": 43,
   "id": "9dcc4453",
   "metadata": {},
   "outputs": [],
   "source": [
    "from sklearn.linear_model import LogisticRegression"
   ]
  },
  {
   "cell_type": "code",
   "execution_count": 44,
   "id": "fb7ae333",
   "metadata": {},
   "outputs": [
    {
     "data": {
      "text/plain": [
       "array([241400., 500001.,  64100., ..., 215300., 139000., 181300.])"
      ]
     },
     "execution_count": 44,
     "metadata": {},
     "output_type": "execute_result"
    }
   ],
   "source": [
    "y_train"
   ]
  },
  {
   "cell_type": "code",
   "execution_count": 45,
   "id": "d2693231",
   "metadata": {},
   "outputs": [
    {
     "data": {
      "text/plain": [
       "array([1, 1, 0, ..., 1, 0, 0])"
      ]
     },
     "execution_count": 45,
     "metadata": {},
     "output_type": "execute_result"
    }
   ],
   "source": [
    "y_train_cat"
   ]
  },
  {
   "cell_type": "code",
   "execution_count": 46,
   "id": "540d986d",
   "metadata": {},
   "outputs": [
    {
     "data": {
      "text/plain": [
       "LogisticRegression(max_iter=1000, random_state=42, solver='liblinear')"
      ]
     },
     "execution_count": 46,
     "metadata": {},
     "output_type": "execute_result"
    }
   ],
   "source": [
    "model = LogisticRegression(solver=\"liblinear\", C=1.0, max_iter=1000, random_state=42)\n",
    "model.fit(X_train, y_train_cat)"
   ]
  },
  {
   "cell_type": "code",
   "execution_count": 47,
   "id": "9b21662d",
   "metadata": {},
   "outputs": [
    {
     "data": {
      "text/plain": [
       "array([ 0.113,  0.004,  0.036,  0.103,  0.083,  1.196,  0.452, -1.599,\n",
       "        0.012,  0.309,  0.763, -0.002,  0.01 , -0.014,  0.002, -0.   ])"
      ]
     },
     "execution_count": 47,
     "metadata": {},
     "output_type": "execute_result"
    }
   ],
   "source": [
    "model.coef_[0].round(3) #weights w"
   ]
  },
  {
   "cell_type": "markdown",
   "id": "5baa55ad",
   "metadata": {},
   "source": [
    "### Calculate the accuracy on the validation dataset and round it to 2 decimal digits"
   ]
  },
  {
   "cell_type": "code",
   "execution_count": 48,
   "id": "a0c990c8",
   "metadata": {},
   "outputs": [],
   "source": [
    "#Validation set one-hot encoding\n",
    "val_dict = df_val.to_dict(orient='records')\n",
    "X_val = dv.transform(val_dict)"
   ]
  },
  {
   "cell_type": "markdown",
   "id": "2ab7631e",
   "metadata": {},
   "source": [
    "### Prediction"
   ]
  },
  {
   "cell_type": "code",
   "execution_count": 49,
   "id": "d4ba4ed2",
   "metadata": {},
   "outputs": [
    {
     "data": {
      "text/plain": [
       "array([[0.91245709, 0.08754291],\n",
       "       [0.84006404, 0.15993596],\n",
       "       [0.04791432, 0.95208568],\n",
       "       ...,\n",
       "       [0.04120502, 0.95879498],\n",
       "       [0.15063196, 0.84936804],\n",
       "       [0.52768249, 0.47231751]])"
      ]
     },
     "execution_count": 49,
     "metadata": {},
     "output_type": "execute_result"
    }
   ],
   "source": [
    "model.predict_proba(X_val)"
   ]
  },
  {
   "cell_type": "code",
   "execution_count": 53,
   "id": "9d7d30b5",
   "metadata": {},
   "outputs": [
    {
     "data": {
      "text/plain": [
       "array([0.08754291, 0.15993596, 0.95208568, ..., 0.95879498, 0.84936804,\n",
       "       0.47231751])"
      ]
     },
     "execution_count": 53,
     "metadata": {},
     "output_type": "execute_result"
    }
   ],
   "source": [
    "y_pred_soft = model.predict_proba(X_val)[:, 1]\n",
    "y_pred_soft"
   ]
  },
  {
   "cell_type": "code",
   "execution_count": 54,
   "id": "1677aba2",
   "metadata": {},
   "outputs": [
    {
     "data": {
      "text/plain": [
       "array([0, 0, 1, ..., 1, 1, 0])"
      ]
     },
     "execution_count": 54,
     "metadata": {},
     "output_type": "execute_result"
    }
   ],
   "source": [
    "y_pred_hard = model.predict(X_val)\n",
    "y_pred_hard"
   ]
  },
  {
   "cell_type": "markdown",
   "id": "0ecb9455",
   "metadata": {},
   "source": [
    "### Accuracy"
   ]
  },
  {
   "cell_type": "code",
   "execution_count": 55,
   "id": "3ebbb33e",
   "metadata": {},
   "outputs": [],
   "source": [
    "above_avg_pred = (y_pred_soft>=0.5)"
   ]
  },
  {
   "cell_type": "code",
   "execution_count": 78,
   "id": "a4620d50",
   "metadata": {},
   "outputs": [
    {
     "data": {
      "text/plain": [
       "0.8359980620155039"
      ]
     },
     "execution_count": 78,
     "metadata": {},
     "output_type": "execute_result"
    }
   ],
   "source": [
    "model_acc = (y_val_cat == above_avg_pred).mean()\n",
    "model_acc"
   ]
  },
  {
   "cell_type": "code",
   "execution_count": 57,
   "id": "dfd4ab34",
   "metadata": {},
   "outputs": [
    {
     "data": {
      "text/plain": [
       "0.8359980620155039"
      ]
     },
     "execution_count": 57,
     "metadata": {},
     "output_type": "execute_result"
    }
   ],
   "source": [
    "(y_val_cat == y_pred_hard).mean()"
   ]
  },
  {
   "cell_type": "code",
   "execution_count": 58,
   "id": "a241b26b",
   "metadata": {},
   "outputs": [
    {
     "data": {
      "text/plain": [
       "0.84"
      ]
     },
     "execution_count": 58,
     "metadata": {},
     "output_type": "execute_result"
    }
   ],
   "source": [
    "(y_val_cat == above_avg_pred).mean().round(2)"
   ]
  },
  {
   "cell_type": "markdown",
   "id": "04b18977",
   "metadata": {},
   "source": [
    "- Answer for Question 4 is 0.84"
   ]
  },
  {
   "cell_type": "code",
   "execution_count": 59,
   "id": "07e5f6d9",
   "metadata": {},
   "outputs": [],
   "source": [
    "df_pred = pd.DataFrame()\n",
    "df_pred['probability'] = y_pred_soft\n",
    "df_pred['prediction'] = above_avg_pred.astype(int)\n",
    "df_pred['actual'] = y_val_cat"
   ]
  },
  {
   "cell_type": "code",
   "execution_count": 60,
   "id": "9d5a7689",
   "metadata": {},
   "outputs": [
    {
     "data": {
      "text/html": [
       "<div>\n",
       "<style scoped>\n",
       "    .dataframe tbody tr th:only-of-type {\n",
       "        vertical-align: middle;\n",
       "    }\n",
       "\n",
       "    .dataframe tbody tr th {\n",
       "        vertical-align: top;\n",
       "    }\n",
       "\n",
       "    .dataframe thead th {\n",
       "        text-align: right;\n",
       "    }\n",
       "</style>\n",
       "<table border=\"1\" class=\"dataframe\">\n",
       "  <thead>\n",
       "    <tr style=\"text-align: right;\">\n",
       "      <th></th>\n",
       "      <th>probability</th>\n",
       "      <th>prediction</th>\n",
       "      <th>actual</th>\n",
       "    </tr>\n",
       "  </thead>\n",
       "  <tbody>\n",
       "    <tr>\n",
       "      <th>0</th>\n",
       "      <td>0.087543</td>\n",
       "      <td>0</td>\n",
       "      <td>0</td>\n",
       "    </tr>\n",
       "    <tr>\n",
       "      <th>1</th>\n",
       "      <td>0.159936</td>\n",
       "      <td>0</td>\n",
       "      <td>0</td>\n",
       "    </tr>\n",
       "    <tr>\n",
       "      <th>2</th>\n",
       "      <td>0.952086</td>\n",
       "      <td>1</td>\n",
       "      <td>1</td>\n",
       "    </tr>\n",
       "    <tr>\n",
       "      <th>3</th>\n",
       "      <td>0.492404</td>\n",
       "      <td>0</td>\n",
       "      <td>1</td>\n",
       "    </tr>\n",
       "    <tr>\n",
       "      <th>4</th>\n",
       "      <td>0.979478</td>\n",
       "      <td>1</td>\n",
       "      <td>1</td>\n",
       "    </tr>\n",
       "    <tr>\n",
       "      <th>...</th>\n",
       "      <td>...</td>\n",
       "      <td>...</td>\n",
       "      <td>...</td>\n",
       "    </tr>\n",
       "    <tr>\n",
       "      <th>4123</th>\n",
       "      <td>0.052485</td>\n",
       "      <td>0</td>\n",
       "      <td>0</td>\n",
       "    </tr>\n",
       "    <tr>\n",
       "      <th>4124</th>\n",
       "      <td>0.986704</td>\n",
       "      <td>1</td>\n",
       "      <td>1</td>\n",
       "    </tr>\n",
       "    <tr>\n",
       "      <th>4125</th>\n",
       "      <td>0.958795</td>\n",
       "      <td>1</td>\n",
       "      <td>1</td>\n",
       "    </tr>\n",
       "    <tr>\n",
       "      <th>4126</th>\n",
       "      <td>0.849368</td>\n",
       "      <td>1</td>\n",
       "      <td>1</td>\n",
       "    </tr>\n",
       "    <tr>\n",
       "      <th>4127</th>\n",
       "      <td>0.472318</td>\n",
       "      <td>0</td>\n",
       "      <td>0</td>\n",
       "    </tr>\n",
       "  </tbody>\n",
       "</table>\n",
       "<p>4128 rows × 3 columns</p>\n",
       "</div>"
      ],
      "text/plain": [
       "      probability  prediction  actual\n",
       "0        0.087543           0       0\n",
       "1        0.159936           0       0\n",
       "2        0.952086           1       1\n",
       "3        0.492404           0       1\n",
       "4        0.979478           1       1\n",
       "...           ...         ...     ...\n",
       "4123     0.052485           0       0\n",
       "4124     0.986704           1       1\n",
       "4125     0.958795           1       1\n",
       "4126     0.849368           1       1\n",
       "4127     0.472318           0       0\n",
       "\n",
       "[4128 rows x 3 columns]"
      ]
     },
     "execution_count": 60,
     "metadata": {},
     "output_type": "execute_result"
    }
   ],
   "source": [
    "df_pred"
   ]
  },
  {
   "cell_type": "code",
   "execution_count": 61,
   "id": "43285d9e",
   "metadata": {},
   "outputs": [],
   "source": [
    "df_pred['correct'] = df_pred.prediction == df_pred.actual"
   ]
  },
  {
   "cell_type": "code",
   "execution_count": 62,
   "id": "d7696635",
   "metadata": {},
   "outputs": [
    {
     "data": {
      "text/html": [
       "<div>\n",
       "<style scoped>\n",
       "    .dataframe tbody tr th:only-of-type {\n",
       "        vertical-align: middle;\n",
       "    }\n",
       "\n",
       "    .dataframe tbody tr th {\n",
       "        vertical-align: top;\n",
       "    }\n",
       "\n",
       "    .dataframe thead th {\n",
       "        text-align: right;\n",
       "    }\n",
       "</style>\n",
       "<table border=\"1\" class=\"dataframe\">\n",
       "  <thead>\n",
       "    <tr style=\"text-align: right;\">\n",
       "      <th></th>\n",
       "      <th>probability</th>\n",
       "      <th>prediction</th>\n",
       "      <th>actual</th>\n",
       "      <th>correct</th>\n",
       "    </tr>\n",
       "  </thead>\n",
       "  <tbody>\n",
       "    <tr>\n",
       "      <th>0</th>\n",
       "      <td>0.087543</td>\n",
       "      <td>0</td>\n",
       "      <td>0</td>\n",
       "      <td>True</td>\n",
       "    </tr>\n",
       "    <tr>\n",
       "      <th>1</th>\n",
       "      <td>0.159936</td>\n",
       "      <td>0</td>\n",
       "      <td>0</td>\n",
       "      <td>True</td>\n",
       "    </tr>\n",
       "    <tr>\n",
       "      <th>2</th>\n",
       "      <td>0.952086</td>\n",
       "      <td>1</td>\n",
       "      <td>1</td>\n",
       "      <td>True</td>\n",
       "    </tr>\n",
       "    <tr>\n",
       "      <th>3</th>\n",
       "      <td>0.492404</td>\n",
       "      <td>0</td>\n",
       "      <td>1</td>\n",
       "      <td>False</td>\n",
       "    </tr>\n",
       "    <tr>\n",
       "      <th>4</th>\n",
       "      <td>0.979478</td>\n",
       "      <td>1</td>\n",
       "      <td>1</td>\n",
       "      <td>True</td>\n",
       "    </tr>\n",
       "    <tr>\n",
       "      <th>...</th>\n",
       "      <td>...</td>\n",
       "      <td>...</td>\n",
       "      <td>...</td>\n",
       "      <td>...</td>\n",
       "    </tr>\n",
       "    <tr>\n",
       "      <th>4123</th>\n",
       "      <td>0.052485</td>\n",
       "      <td>0</td>\n",
       "      <td>0</td>\n",
       "      <td>True</td>\n",
       "    </tr>\n",
       "    <tr>\n",
       "      <th>4124</th>\n",
       "      <td>0.986704</td>\n",
       "      <td>1</td>\n",
       "      <td>1</td>\n",
       "      <td>True</td>\n",
       "    </tr>\n",
       "    <tr>\n",
       "      <th>4125</th>\n",
       "      <td>0.958795</td>\n",
       "      <td>1</td>\n",
       "      <td>1</td>\n",
       "      <td>True</td>\n",
       "    </tr>\n",
       "    <tr>\n",
       "      <th>4126</th>\n",
       "      <td>0.849368</td>\n",
       "      <td>1</td>\n",
       "      <td>1</td>\n",
       "      <td>True</td>\n",
       "    </tr>\n",
       "    <tr>\n",
       "      <th>4127</th>\n",
       "      <td>0.472318</td>\n",
       "      <td>0</td>\n",
       "      <td>0</td>\n",
       "      <td>True</td>\n",
       "    </tr>\n",
       "  </tbody>\n",
       "</table>\n",
       "<p>4128 rows × 4 columns</p>\n",
       "</div>"
      ],
      "text/plain": [
       "      probability  prediction  actual  correct\n",
       "0        0.087543           0       0     True\n",
       "1        0.159936           0       0     True\n",
       "2        0.952086           1       1     True\n",
       "3        0.492404           0       1    False\n",
       "4        0.979478           1       1     True\n",
       "...           ...         ...     ...      ...\n",
       "4123     0.052485           0       0     True\n",
       "4124     0.986704           1       1     True\n",
       "4125     0.958795           1       1     True\n",
       "4126     0.849368           1       1     True\n",
       "4127     0.472318           0       0     True\n",
       "\n",
       "[4128 rows x 4 columns]"
      ]
     },
     "execution_count": 62,
     "metadata": {},
     "output_type": "execute_result"
    }
   ],
   "source": [
    "df_pred"
   ]
  },
  {
   "cell_type": "markdown",
   "id": "d8a43329",
   "metadata": {},
   "source": [
    "### Sigmoid"
   ]
  },
  {
   "cell_type": "code",
   "execution_count": 66,
   "id": "8d0a4cb5",
   "metadata": {},
   "outputs": [],
   "source": [
    "def sigmoid(z):\n",
    "    return 1/(1 + np.exp(-z))"
   ]
  },
  {
   "cell_type": "code",
   "execution_count": 73,
   "id": "321c1f3c",
   "metadata": {},
   "outputs": [
    {
     "data": {
      "text/plain": [
       "array([9.11051194e-04, 1.20508423e-03, 1.59386223e-03, 2.10780106e-03,\n",
       "       2.78699622e-03, 3.68423990e-03, 4.86893124e-03, 6.43210847e-03,\n",
       "       8.49286285e-03, 1.12064063e-02, 1.47740317e-02, 1.94550846e-02,\n",
       "       2.55807883e-02, 3.35692233e-02, 4.39398154e-02, 5.73241759e-02,\n",
       "       7.44679452e-02, 9.62155417e-02, 1.23467048e-01, 1.57095469e-01,\n",
       "       1.97816111e-01, 2.46011284e-01, 3.01534784e-01, 3.63547460e-01,\n",
       "       4.30453776e-01, 5.00000000e-01, 5.69546224e-01, 6.36452540e-01,\n",
       "       6.98465216e-01, 7.53988716e-01, 8.02183889e-01, 8.42904531e-01,\n",
       "       8.76532952e-01, 9.03784458e-01, 9.25532055e-01, 9.42675824e-01,\n",
       "       9.56060185e-01, 9.66430777e-01, 9.74419212e-01, 9.80544915e-01,\n",
       "       9.85225968e-01, 9.88793594e-01, 9.91507137e-01, 9.93567892e-01,\n",
       "       9.95131069e-01, 9.96315760e-01, 9.97213004e-01, 9.97892199e-01,\n",
       "       9.98406138e-01, 9.98794916e-01, 9.99088949e-01])"
      ]
     },
     "execution_count": 73,
     "metadata": {},
     "output_type": "execute_result"
    }
   ],
   "source": [
    "z = np.linspace(-7, 7, 51)\n",
    "sigmoid(z)"
   ]
  },
  {
   "cell_type": "code",
   "execution_count": 74,
   "id": "14a86ce2",
   "metadata": {},
   "outputs": [],
   "source": [
    "import seaborn as sns\n",
    "from matplotlib import pyplot as plt\n",
    "%matplotlib inline"
   ]
  },
  {
   "cell_type": "code",
   "execution_count": 75,
   "id": "80949567",
   "metadata": {},
   "outputs": [
    {
     "data": {
      "text/plain": [
       "[<matplotlib.lines.Line2D at 0x18e63997910>]"
      ]
     },
     "execution_count": 75,
     "metadata": {},
     "output_type": "execute_result"
    },
    {
     "data": {
      "image/png": "[encoded data removed]",
      "text/plain": [
       "<Figure size 432x288 with 1 Axes>"
      ]
     },
     "metadata": {
      "needs_background": "light"
     },
     "output_type": "display_data"
    }
   ],
   "source": [
    "plt.plot(z, sigmoid(z))"
   ]
  },
  {
   "cell_type": "code",
   "execution_count": 76,
   "id": "2f1ce285",
   "metadata": {},
   "outputs": [],
   "source": [
    "def linear_regression(xi):\n",
    "    result = w0\n",
    "    \n",
    "    for j in range(len(w)):\n",
    "        result = result + xi[j] * w[j]\n",
    "        \n",
    "    return result"
   ]
  },
  {
   "cell_type": "code",
   "execution_count": 77,
   "id": "7523191c",
   "metadata": {},
   "outputs": [],
   "source": [
    "def logistic_regression(xi):\n",
    "    score = w0\n",
    "    \n",
    "    for j in range(len(w)):\n",
    "        score = score + xi[j] * w[j]\n",
    "        \n",
    "    result = sigmoid(score)\n",
    "    return result"
   ]
  },
  {
   "cell_type": "markdown",
   "id": "c3c67f13",
   "metadata": {},
   "source": [
    "# Question 5"
   ]
  },
  {
   "cell_type": "markdown",
   "id": "73cb79e5",
   "metadata": {},
   "source": [
    "- Let's find the least useful feature using the feature elimination technique.\n",
    "- Train a model with all these features (using the same parameters as in Q4).\n",
    "- Now exclude each feature from this set and train a model without it. Record the accuracy for each model.\n",
    "- For each feature, calculate the difference between the original accuracy and the accuracy without the feature.\n",
    "- Which of following feature has the smallest difference?\n",
    "    - total_rooms\n",
    "    - total_bedrooms\n",
    "    - population\n",
    "    - households\n",
    "<br>note: the difference doesn't have to be positive"
   ]
  },
  {
   "cell_type": "code",
   "execution_count": 63,
   "id": "cbcb4864",
   "metadata": {},
   "outputs": [
    {
     "data": {
      "text/plain": [
       "-0.06226206219069978"
      ]
     },
     "execution_count": 63,
     "metadata": {},
     "output_type": "execute_result"
    }
   ],
   "source": [
    "w0 = model.intercept_[0]\n",
    "w0 #bayes"
   ]
  },
  {
   "cell_type": "code",
   "execution_count": 64,
   "id": "32d0d28e",
   "metadata": {},
   "outputs": [
    {
     "data": {
      "text/plain": [
       "array([ 0.113,  0.004,  0.036,  0.103,  0.083,  1.196,  0.452, -1.599,\n",
       "        0.012,  0.309,  0.763, -0.002,  0.01 , -0.014,  0.002, -0.   ])"
      ]
     },
     "execution_count": 64,
     "metadata": {},
     "output_type": "execute_result"
    }
   ],
   "source": [
    "w = model.coef_[0]\n",
    "w.round(3)"
   ]
  },
  {
   "cell_type": "code",
   "execution_count": 65,
   "id": "d21e9d1b",
   "metadata": {},
   "outputs": [
    {
     "data": {
      "text/plain": [
       "{'bedrooms_per_room': 0.113,\n",
       " 'households': 0.004,\n",
       " 'housing_median_age': 0.036,\n",
       " 'latitude': 0.103,\n",
       " 'longitude': 0.083,\n",
       " 'median_income': 1.196,\n",
       " 'ocean_proximity=<1h_ocean': 0.452,\n",
       " 'ocean_proximity=inland': -1.599,\n",
       " 'ocean_proximity=island': 0.012,\n",
       " 'ocean_proximity=near_bay': 0.309,\n",
       " 'ocean_proximity=near_ocean': 0.763,\n",
       " 'population': -0.002,\n",
       " 'population_per_household': 0.01,\n",
       " 'rooms_per_household': -0.014,\n",
       " 'total_bedrooms': 0.002,\n",
       " 'total_rooms': -0.0}"
      ]
     },
     "execution_count": 65,
     "metadata": {},
     "output_type": "execute_result"
    }
   ],
   "source": [
    "dict(zip(dv.get_feature_names_out(), w.round(3)))"
   ]
  },
  {
   "cell_type": "code",
   "execution_count": 93,
   "id": "4d3fd8ad",
   "metadata": {},
   "outputs": [],
   "source": [
    "def one_hot_enc(df):\n",
    "    train_dict = df.to_dict(orient='records')\n",
    "    X = dv.transform(train_dict)\n",
    "    \n",
    "    return X"
   ]
  },
  {
   "cell_type": "code",
   "execution_count": 94,
   "id": "de143400",
   "metadata": {},
   "outputs": [],
   "source": [
    "# from sklearn.preprocessing import OneHotEncoder"
   ]
  },
  {
   "cell_type": "code",
   "execution_count": 95,
   "id": "71a21817",
   "metadata": {},
   "outputs": [],
   "source": [
    "# features = ['longitude', 'latitude','housing_median_age','total_rooms','total_bedrooms', 'population', 'households', 'median_income', 'ocean_proximity', 'rooms_per_household', 'bedrooms_per_room', 'population_per_household']\n",
    "# features_ex_total_rooms = features.remove('total_rooms')\n",
    "\n",
    "# df_train_ex_total_rooms = df_train.drop(columns=['total_rooms']).copy()\n",
    "# X_train_ex_total_rooms = OneHotEncoder(sparse=False).fit(df_train_ex_total_rooms)\n",
    "# X_train_ex_total_rooms = X_train_ex_total_rooms.transform(np.array(features_ex_total_rooms))\n",
    "# X_train_ex_total_rooms"
   ]
  },
  {
   "cell_type": "markdown",
   "id": "58964a26",
   "metadata": {},
   "source": [
    "#### Excluding total_rooms"
   ]
  },
  {
   "cell_type": "code",
   "execution_count": 110,
   "id": "da50a376",
   "metadata": {},
   "outputs": [
    {
     "data": {
      "text/plain": [
       "array([[2.59713701e-01, 3.74000000e+02, 3.90000000e+01, ...,\n",
       "        3.92245989e+00, 3.81000000e+02, 0.00000000e+00],\n",
       "       [1.30227981e-01, 8.06000000e+02, 2.40000000e+01, ...,\n",
       "        7.56451613e+00, 7.94000000e+02, 0.00000000e+00],\n",
       "       [2.34624146e-01, 3.37000000e+02, 4.10000000e+01, ...,\n",
       "        3.90801187e+00, 3.09000000e+02, 0.00000000e+00],\n",
       "       ...,\n",
       "       [1.82879377e-01, 6.02000000e+02, 1.80000000e+01, ...,\n",
       "        5.54983389e+00, 6.11000000e+02, 0.00000000e+00],\n",
       "       [2.29126214e-01, 3.50000000e+02, 1.60000000e+01, ...,\n",
       "        4.41428571e+00, 3.54000000e+02, 0.00000000e+00],\n",
       "       [2.09574468e-01, 2.15000000e+02, 3.50000000e+01, ...,\n",
       "        4.37209302e+00, 1.97000000e+02, 0.00000000e+00]])"
      ]
     },
     "execution_count": 110,
     "metadata": {},
     "output_type": "execute_result"
    }
   ],
   "source": [
    "df_train_ex_total_rooms = df_train.drop(columns=['total_rooms']).copy()\n",
    "\n",
    "X_train_ex_total_rooms = one_hot_enc(df_train_ex_total_rooms)\n",
    "X_train_ex_total_rooms\n"
   ]
  },
  {
   "cell_type": "code",
   "execution_count": 111,
   "id": "13bc3382",
   "metadata": {},
   "outputs": [
    {
     "data": {
      "text/plain": [
       "LogisticRegression(max_iter=1000, random_state=42, solver='liblinear')"
      ]
     },
     "execution_count": 111,
     "metadata": {},
     "output_type": "execute_result"
    }
   ],
   "source": [
    "model_ex_total_rooms = LogisticRegression(solver=\"liblinear\", C=1.0, max_iter=1000, random_state=42)\n",
    "model_ex_total_rooms.fit(X_train_ex_total_rooms, y_train_cat)"
   ]
  },
  {
   "cell_type": "code",
   "execution_count": 112,
   "id": "6c4d03a5",
   "metadata": {},
   "outputs": [
    {
     "data": {
      "text/plain": [
       "array([[1.59529807e-01, 1.82000000e+02, 3.50000000e+01, ...,\n",
       "        6.54395604e+00, 1.90000000e+02, 0.00000000e+00],\n",
       "       [2.30263158e-01, 3.90000000e+02, 2.30000000e+01, ...,\n",
       "        4.28717949e+00, 3.85000000e+02, 0.00000000e+00],\n",
       "       [2.69762211e-01, 1.58900000e+03, 1.40000000e+01, ...,\n",
       "        3.91692889e+00, 1.67900000e+03, 0.00000000e+00],\n",
       "       ...,\n",
       "       [1.70779221e-01, 5.82000000e+02, 3.10000000e+01, ...,\n",
       "        5.29209622e+00, 5.26000000e+02, 0.00000000e+00],\n",
       "       [1.79687500e-01, 6.32000000e+02, 3.40000000e+01, ...,\n",
       "        5.87341772e+00, 6.67000000e+02, 0.00000000e+00],\n",
       "       [1.79974651e-01, 2.92000000e+02, 3.20000000e+01, ...,\n",
       "        5.40410959e+00, 2.84000000e+02, 0.00000000e+00]])"
      ]
     },
     "execution_count": 112,
     "metadata": {},
     "output_type": "execute_result"
    }
   ],
   "source": [
    "df_val_ex_total_rooms = df_val.drop(columns=['total_rooms']).copy()\n",
    "\n",
    "X_val_ex_total_rooms = one_hot_enc(df_val_ex_total_rooms)\n",
    "X_val_ex_total_rooms\n"
   ]
  },
  {
   "cell_type": "code",
   "execution_count": 113,
   "id": "6b676a24",
   "metadata": {},
   "outputs": [
    {
     "name": "stdout",
     "output_type": "stream",
     "text": [
      "0.8367248062015504\n",
      "0.8359980620155039\n",
      "-0.0007267441860465684\n"
     ]
    }
   ],
   "source": [
    "y_pred_ex_tr = model_ex_total_rooms.predict(X_val_ex_total_rooms)\n",
    "acc_model_ex_total_rooms = (y_val_cat == y_pred_ex_tr).mean()\n",
    "print(acc_model_ex_total_rooms)\n",
    "print(model_acc)\n",
    "print(model_acc - acc_model_ex_total_rooms)"
   ]
  },
  {
   "cell_type": "markdown",
   "id": "f3a8f1a0",
   "metadata": {},
   "source": [
    "#### Excluding total_bedrooms"
   ]
  },
  {
   "cell_type": "code",
   "execution_count": 114,
   "id": "99c8be36",
   "metadata": {},
   "outputs": [],
   "source": [
    "df_train_ex_total_bedrooms = df_train.drop(columns=['total_bedrooms']).copy()\n",
    "\n",
    "X_train_ex_total_bedrooms = one_hot_enc(df_train_ex_total_bedrooms)"
   ]
  },
  {
   "cell_type": "code",
   "execution_count": 115,
   "id": "90ca392f",
   "metadata": {},
   "outputs": [
    {
     "data": {
      "text/plain": [
       "LogisticRegression(max_iter=1000, random_state=42, solver='liblinear')"
      ]
     },
     "execution_count": 115,
     "metadata": {},
     "output_type": "execute_result"
    }
   ],
   "source": [
    "model_ex_total_bedrooms = LogisticRegression(solver=\"liblinear\", C=1.0, max_iter=1000, random_state=42)\n",
    "model_ex_total_bedrooms.fit(X_train_ex_total_bedrooms, y_train_cat)"
   ]
  },
  {
   "cell_type": "code",
   "execution_count": 116,
   "id": "014baacf",
   "metadata": {},
   "outputs": [
    {
     "name": "stdout",
     "output_type": "stream",
     "text": [
      "0.8357558139534884\n",
      "0.8359980620155039\n",
      "0.0002422480620154488\n"
     ]
    }
   ],
   "source": [
    "df_val_ex_total_bedrooms = df_val.drop(columns=['total_bedrooms']).copy()\n",
    "\n",
    "X_val_ex_total_bedrooms = one_hot_enc(df_val_ex_total_bedrooms)\n",
    "\n",
    "y_pred_ex_tb = model_ex_total_bedrooms.predict(X_val_ex_total_bedrooms)\n",
    "acc_model_ex_total_bedrooms = (y_val_cat == y_pred_ex_tb).mean()\n",
    "print(acc_model_ex_total_bedrooms)\n",
    "print(model_acc)\n",
    "print(model_acc - acc_model_ex_total_bedrooms)"
   ]
  },
  {
   "cell_type": "markdown",
   "id": "59283155",
   "metadata": {},
   "source": [
    "#### Excluding population"
   ]
  },
  {
   "cell_type": "code",
   "execution_count": 118,
   "id": "705f1207",
   "metadata": {},
   "outputs": [
    {
     "data": {
      "text/plain": [
       "LogisticRegression(max_iter=1000, random_state=42, solver='liblinear')"
      ]
     },
     "execution_count": 118,
     "metadata": {},
     "output_type": "execute_result"
    }
   ],
   "source": [
    "df_train_ex_population = df_train.drop(columns=['population']).copy()\n",
    "\n",
    "X_train_ex_population = one_hot_enc(df_train_ex_population)\n",
    "\n",
    "model_ex_population = LogisticRegression(solver=\"liblinear\", C=1.0, max_iter=1000, random_state=42)\n",
    "model_ex_population.fit(X_train_ex_population, y_train_cat)"
   ]
  },
  {
   "cell_type": "code",
   "execution_count": 119,
   "id": "164949bb",
   "metadata": {},
   "outputs": [
    {
     "name": "stdout",
     "output_type": "stream",
     "text": [
      "0.6620639534883721\n",
      "0.8359980620155039\n",
      "0.17393410852713176\n"
     ]
    }
   ],
   "source": [
    "df_val_ex_population = df_val.drop(columns=['population']).copy()\n",
    "\n",
    "X_val_ex_population = one_hot_enc(df_val_ex_population)\n",
    "\n",
    "y_pred_ex_pop = model_ex_total_bedrooms.predict(X_val_ex_population)\n",
    "acc_model_ex_population = (y_val_cat == y_pred_ex_pop).mean()\n",
    "print(acc_model_ex_population)\n",
    "print(model_acc)\n",
    "print(model_acc - acc_model_ex_population)"
   ]
  },
  {
   "cell_type": "markdown",
   "id": "de7cf056",
   "metadata": {},
   "source": [
    "#### Excluding households"
   ]
  },
  {
   "cell_type": "code",
   "execution_count": 120,
   "id": "a518a439",
   "metadata": {},
   "outputs": [
    {
     "data": {
      "text/plain": [
       "LogisticRegression(max_iter=1000, random_state=42, solver='liblinear')"
      ]
     },
     "execution_count": 120,
     "metadata": {},
     "output_type": "execute_result"
    }
   ],
   "source": [
    "df_train_ex_households = df_train.drop(columns=['households']).copy()\n",
    "\n",
    "X_train_ex_households = one_hot_enc(df_train_ex_households)\n",
    "\n",
    "model_ex_households = LogisticRegression(solver=\"liblinear\", C=1.0, max_iter=1000, random_state=42)\n",
    "model_ex_households.fit(X_train_ex_households, y_train_cat)"
   ]
  },
  {
   "cell_type": "code",
   "execution_count": 121,
   "id": "040fa549",
   "metadata": {},
   "outputs": [
    {
     "name": "stdout",
     "output_type": "stream",
     "text": [
      "0.6991279069767442\n",
      "0.8359980620155039\n",
      "0.13687015503875966\n"
     ]
    }
   ],
   "source": [
    "df_val_ex_households = df_val.drop(columns=['households']).copy()\n",
    "\n",
    "X_val_ex_households = one_hot_enc(df_val_ex_households)\n",
    "\n",
    "y_pred_ex_h = model_ex_total_bedrooms.predict(X_val_ex_households)\n",
    "acc_model_ex_households = (y_val_cat == y_pred_ex_h).mean()\n",
    "print(acc_model_ex_households)\n",
    "print(model_acc)\n",
    "print(model_acc - acc_model_ex_households)"
   ]
  },
  {
   "cell_type": "markdown",
   "id": "dcad09c7",
   "metadata": {},
   "source": [
    "- Answer for Question 5 is total_rooms -0.0007267441860465684"
   ]
  },
  {
   "cell_type": "markdown",
   "id": "612809bc",
   "metadata": {},
   "source": [
    "# Question 6"
   ]
  },
  {
   "cell_type": "markdown",
   "id": "c2d02edd",
   "metadata": {},
   "source": [
    "- For this question, we'll see how to use a linear regression model from Scikit-Learn\n",
    "- We'll need to use the original column 'median_house_value'. Apply the logarithmic transformation to this column.\n",
    "- Fit the Ridge regression model (model = Ridge(alpha=a, solver=\"sag\", random_state=42)) on the training data.\n",
    "- This model has a parameter alpha. Let's try the following values: [0, 0.01, 0.1, 1, 10]\n",
    "- Which of these alphas leads to the best RMSE on the validation set? Round your RMSE scores to 3 decimal digits.\n",
    "- If there are multiple options, select the smallest alpha.\n",
    "<br>\n",
    "Options:<br>\n",
    "<br>\n",
    "- 0\n",
    "- 0.01\n",
    "- 0.1\n",
    "- 1\n",
    "- 10"
   ]
  },
  {
   "cell_type": "code",
   "execution_count": 122,
   "id": "f2aebd9c",
   "metadata": {},
   "outputs": [
    {
     "data": {
      "text/plain": [
       "array([241400., 500001.,  64100., ..., 215300., 139000., 181300.])"
      ]
     },
     "execution_count": 122,
     "metadata": {},
     "output_type": "execute_result"
    }
   ],
   "source": [
    "y_train"
   ]
  },
  {
   "cell_type": "code",
   "execution_count": 123,
   "id": "72f04f74",
   "metadata": {},
   "outputs": [
    {
     "data": {
      "text/plain": [
       "array([12.39421473, 13.12236738, 11.06821524, ..., 12.27979233,\n",
       "       11.84223641, 12.10791391])"
      ]
     },
     "execution_count": 123,
     "metadata": {},
     "output_type": "execute_result"
    }
   ],
   "source": [
    "#Apply the logarithmic transformation to the original column 'median_house_value'column.\n",
    "y_train = np.log1p(y_train)\n",
    "y_val = np.log1p(y_val)\n",
    "y_test = np.log1p(y_test)\n",
    "\n",
    "y_train"
   ]
  },
  {
   "cell_type": "code",
   "execution_count": 124,
   "id": "0871b3c7",
   "metadata": {},
   "outputs": [],
   "source": [
    "from sklearn.linear_model import Ridge"
   ]
  },
  {
   "cell_type": "code",
   "execution_count": 125,
   "id": "72718f17",
   "metadata": {},
   "outputs": [],
   "source": [
    "def rmse(y, y_pred):\n",
    "    error = y_pred - y\n",
    "    mse = (error ** 2).mean()\n",
    "    return np.sqrt(mse)"
   ]
  },
  {
   "cell_type": "code",
   "execution_count": 133,
   "id": "3f752142",
   "metadata": {},
   "outputs": [
    {
     "name": "stdout",
     "output_type": "stream",
     "text": [
      "alpha = 0.00, val rmse: 0.524063570702\n",
      "alpha = 0.01, val rmse: 0.524063570719\n",
      "alpha = 0.10, val rmse: 0.524063570881\n",
      "alpha = 1.00, val rmse: 0.524063572516\n",
      "alpha = 10.00, val rmse: 0.524063588833\n"
     ]
    }
   ],
   "source": [
    "#Fit the Ridge regression model (model = Ridge(alpha=a, solver=\"sag\", random_state=42)) on the training data\n",
    "for a in [0, 0.01, 0.1, 1, 10]:\n",
    "    model_ridge = Ridge(alpha=a, solver=\"sag\", random_state=42)\n",
    "    model_ridge.fit(X_train, y_train)\n",
    "    y_pred = model_ridge.predict(X_val)\n",
    "    print('alpha = %.2f, val rmse: %.12f' % (a, rmse(y_val, y_pred)))"
   ]
  },
  {
   "cell_type": "code",
   "execution_count": 138,
   "id": "dd083434",
   "metadata": {},
   "outputs": [
    {
     "name": "stdout",
     "output_type": "stream",
     "text": [
      "alpha = 0, val rmse: 0.524\n",
      "alpha = 0.01, val rmse: 0.524\n",
      "alpha = 0.1, val rmse: 0.524\n",
      "alpha = 1, val rmse: 0.524\n",
      "alpha = 10, val rmse: 0.524\n"
     ]
    }
   ],
   "source": [
    "#Fit the Ridge regression model (model = Ridge(alpha=a, solver=\"sag\", random_state=42)) on the training data\n",
    "for a in [0, 0.01, 0.1, 1, 10]:\n",
    "    model_ridge = Ridge(alpha=a, solver=\"sag\", random_state=42)\n",
    "    model_ridge.fit(X_train, y_train)\n",
    "    y_pred = model_ridge.predict(X_val)\n",
    "    print('alpha = %.5s, val rmse: %.3f' % (a, rmse(y_val, y_pred)))"
   ]
  },
  {
   "cell_type": "markdown",
   "id": "40c50b80",
   "metadata": {},
   "source": [
    "- Answer for Question 6 is alpha = 0, val rmse: 0.524"
   ]
  },
  {
   "cell_type": "code",
   "execution_count": null,
   "id": "82b0e31c",
   "metadata": {},
   "outputs": [],
   "source": []
  }
 ],
 "metadata": {
  "kernelspec": {
   "display_name": "Python 3 (ipykernel)",
   "language": "python",
   "name": "python3"
  },
  "language_info": {
   "codemirror_mode": {
    "name": "ipython",
    "version": 3
   },
   "file_extension": ".py",
   "mimetype": "text/x-python",
   "name": "python",
   "nbconvert_exporter": "python",
   "pygments_lexer": "ipython3",
   "version": "3.9.7"
  }
 },
 "nbformat": 4,
 "nbformat_minor": 5
}
